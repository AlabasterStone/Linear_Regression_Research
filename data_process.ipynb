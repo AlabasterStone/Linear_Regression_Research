{
 "cells": [
  {
   "cell_type": "markdown",
   "metadata": {},
   "source": [
    "# 量化数据整合处理\n",
    "# ROOM 房间数\n",
    "# FLOR 0-低楼层 1-中楼层 2-高楼层\n",
    "# AREA 面积\n",
    "# !STRT 0-平层 1-复式\n",
    "# TYPE 0-塔楼 1-板塔结合 2-板楼\n",
    "# !FACE 0-其他朝向 1-朝南\n",
    "# !FITM 0-毛坯 1-精装\n",
    "# !WARM 0-集中供暖 1-独立供暖\n",
    "# EVAL 0-无电梯 1-有电梯\n",
    "# PRIC 每平米价格\n",
    "# DISC 0-朝阳 1-东城 2-房山 3-海淀 4-通州 5-西城\n",
    "# OLD 建造时间\n",
    "# SUBC 周围1000m地铁站个数 => 腾讯地图API(explore)\n",
    "# SUBD 最近地铁站距离 => 腾讯地图API(explore)\n",
    "# CEDT 距市中心距离 => 腾讯地图API(search) + havarsine"
   ]
  },
  {
   "cell_type": "code",
   "execution_count": 5,
   "metadata": {},
   "outputs": [],
   "source": [
    "import pandas as pd\n",
    "import json\n",
    "\n",
    "data = list()\n",
    "\n",
    "def process(handle, district) -> list:\n",
    "    d = json.load(handle)\n",
    "    for kv in d:\n",
    "        del kv['INTRO']\n",
    "        del kv['ROUND']\n",
    "        kv['AREA'] = kv['AREA'][:-1]\n",
    "        if \"南\" in kv['FACE']:\n",
    "            kv['FACE'] = 1\n",
    "        else:\n",
    "            kv['FACE'] = 0\n",
    "        kv['DISC'] = district\n",
    "        del kv['FACE']\n",
    "        del kv['STRT']\n",
    "        del kv['FITM']\n",
    "        del kv['WARM']\n",
    "        kv['OLD'] = kv['OLD'][0:kv['OLD'].find(\"年建\")]\n",
    "    return d\n",
    "\n",
    "with open(\"./data/chaoyang.json\", \"r\", encoding='utf-8') as fd:\n",
    "    p = process(fd, 1)\n",
    "    pd.DataFrame(p).to_csv(\"./data/chaoyang.csv\")\n",
    "    data+=p\n",
    "\n",
    "with open(\"./data/dongcheng.json\", \"r\", encoding='utf-8') as fd:\n",
    "    p = process(fd, 2)\n",
    "    pd.DataFrame(p).to_csv(\"./data/dongcheng.csv\")\n",
    "    data+=p\n",
    "\n",
    "with open(\"./data/xicheng.json\", \"r\", encoding='utf-8') as fd:\n",
    "    p = process(fd, 3)\n",
    "    pd.DataFrame(p).to_csv(\"./data/xicheng.csv\")\n",
    "    data+=p\n",
    "\n",
    "with open(\"./data/haidian.json\", \"r\", encoding='utf-8') as fd:\n",
    "    p = process(fd, 4)\n",
    "    pd.DataFrame(p).to_csv(\"./data/haidian.csv\")\n",
    "    data+=p\n",
    "\n",
    "with open(\"./data/fangshan.json\", \"r\", encoding='utf-8') as fd:\n",
    "    p = process(fd, 5)\n",
    "    pd.DataFrame(p).to_csv(\"./data/fangshan.csv\")\n",
    "    data+=p\n",
    "\n",
    "with open(\"./data/tongzhou.json\", \"r\", encoding='utf-8') as fd:\n",
    "    p = process(fd, 6)\n",
    "    pd.DataFrame(p).to_csv(\"./data/tongzhou.csv\")\n",
    "    data+=p\n",
    "\n",
    "pd.DataFrame(data).to_csv(\"./data/beijing.csv\")"
   ]
  }
 ],
 "metadata": {
  "kernelspec": {
   "display_name": "Python 3.10.7 64-bit",
   "language": "python",
   "name": "python3"
  },
  "language_info": {
   "codemirror_mode": {
    "name": "ipython",
    "version": 3
   },
   "file_extension": ".py",
   "mimetype": "text/x-python",
   "name": "python",
   "nbconvert_exporter": "python",
   "pygments_lexer": "ipython3",
   "version": "3.10.7"
  },
  "orig_nbformat": 4,
  "vscode": {
   "interpreter": {
    "hash": "31a0c2a801d55037b80eaa03f1c5bb4a09c8b9368965eda3034c5d0699a05b24"
   }
  }
 },
 "nbformat": 4,
 "nbformat_minor": 2
}
